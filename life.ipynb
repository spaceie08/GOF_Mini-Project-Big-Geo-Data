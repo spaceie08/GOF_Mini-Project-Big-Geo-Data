{
 "cells": [
  {
   "cell_type": "code",
   "execution_count": 16,
   "id": "c044e32c-ce52-46dc-ae82-d7292922e908",
   "metadata": {},
   "outputs": [
    {
     "name": "stdout",
     "output_type": "stream",
     "text": [
      "The line_profiler extension is already loaded. To reload it, use:\n",
      "  %reload_ext line_profiler\n"
     ]
    }
   ],
   "source": [
    "%load_ext line_profiler"
   ]
  },
  {
   "cell_type": "code",
   "execution_count": 17,
   "id": "4094b00d-20b9-4573-ad5d-7693039af6a1",
   "metadata": {},
   "outputs": [
    {
     "name": "stdout",
     "output_type": "stream",
     "text": [
      "The snakeviz extension is already loaded. To reload it, use:\n",
      "  %reload_ext snakeviz\n"
     ]
    }
   ],
   "source": [
    "%load_ext snakeviz"
   ]
  },
  {
   "cell_type": "code",
   "execution_count": 27,
   "id": "bdd52491-fc35-4b73-a4cb-1a7db9752579",
   "metadata": {},
   "outputs": [],
   "source": [
    "from bitarray import bitarray"
   ]
  },
  {
   "cell_type": "code",
   "execution_count": 28,
   "id": "d3ca2b97-5bb6-45f4-94a7-fc178641c1a1",
   "metadata": {
    "editable": true,
    "slideshow": {
     "slide_type": ""
    },
    "tags": []
   },
   "outputs": [],
   "source": [
    "# @profile\n",
    "def read_grid(filename):\n",
    "    grid = []\n",
    "    with open(filename) as f:\n",
    "        w, h = map(int, f.readline().split(maxsplit=1))\n",
    "        \n",
    "        for y in range(h+2):\n",
    "            grid.append([0]*(w+2))\n",
    "        \n",
    "        for no, line in enumerate(f):\n",
    "            try:\n",
    "                y, x = map(int, line.split(maxsplit=1))\n",
    "\n",
    "                if y < 0 or x < 0:\n",
    "                    raise ValueError\n",
    "\n",
    "            except ValueError:\n",
    "                raise Exception(f\"Invalid cell on line {no + 2}.\")\n",
    "\n",
    "            grid[y+1][x+1] = 1\n",
    "\n",
    "    return grid"
   ]
  },
  {
   "cell_type": "markdown",
   "id": "9b973f28-87ad-4fdf-9a14-e13152d20e16",
   "metadata": {},
   "source": [
    "Rules:\n",
    "- Any live cell with fewer than two live neighbours dies, as if by underpopulation.\n",
    "- Any live cell with two or three live neighbours lives on to the next generation.\n",
    "- Any live cell with more than three live neighbours dies, as if by overpopulation.\n",
    "- Any dead cell with exactly three live neighbours becomes a live cell, as if by reproduction."
   ]
  },
  {
   "cell_type": "code",
   "execution_count": 29,
   "id": "272032fd-a24e-4bd0-8f21-ebef622a8508",
   "metadata": {},
   "outputs": [],
   "source": [
    "# @profile\n",
    "def tick(grid):\n",
    "    h, w = len(grid)-2, len(grid[0])-2\n",
    "\n",
    "    nextgrid = []\n",
    "    for y in range(h+2):\n",
    "        nextgrid.append([0]*(w+2))\n",
    "\n",
    "    for y, row in enumerate(grid[1:-1]):\n",
    "        for x, cell in enumerate(row[1:-1]):\n",
    "            count =0\n",
    "            count += grid[y][x] \n",
    "            count += grid[y][x+1]\n",
    "            count += grid[y][x+2] \n",
    "            count += grid[y+1][x] \n",
    "            count += grid[y+1][x+2] \n",
    "            count += grid[y+2][x] \n",
    "            count += grid[y+2][x+1] \n",
    "            count += grid[y+2][x+2]\n",
    "            nextgrid[y+1][x+1] = 1 if count == 3 or (cell and count == 2) else 0\n",
    "\n",
    "    return nextgrid"
   ]
  },
  {
   "cell_type": "code",
   "execution_count": 30,
   "id": "0370f5b4-1bbf-40bf-9ea4-04a7c442d36e",
   "metadata": {
    "editable": true,
    "slideshow": {
     "slide_type": ""
    },
    "tags": []
   },
   "outputs": [],
   "source": [
    "filename = \"data/input_5x5.txt\""
   ]
  },
  {
   "cell_type": "code",
   "execution_count": 31,
   "id": "d5fd14b9-cbdd-4757-9579-f5f8308ad7ac",
   "metadata": {},
   "outputs": [
    {
     "data": {
      "text/plain": [
       "Timer unit: 1e-07 s\n",
       "\n",
       "Total time: 0.0005967 s\n",
       "File: C:\\Users\\jazib\\AppData\\Local\\Temp\\ipykernel_25772\\3667211519.py\n",
       "Function: read_grid at line 2\n",
       "\n",
       "Line #      Hits         Time  Per Hit   % Time  Line Contents\n",
       "==============================================================\n",
       "     2                                           def read_grid(filename):\n",
       "     3         1         17.0     17.0      0.3      grid = []\n",
       "     4         2       3062.0   1531.0     51.3      with open(filename) as f:\n",
       "     5         1       1581.0   1581.0     26.5          w, h = map(int, f.readline().split(maxsplit=1))\n",
       "     6                                                   \n",
       "     7         8        129.0     16.1      2.2          for y in range(h+2):\n",
       "     8         7        160.0     22.9      2.7              grid.append([0]*(w+2))\n",
       "     9                                                   \n",
       "    10         6        553.0     92.2      9.3          for no, line in enumerate(f):\n",
       "    11         5         45.0      9.0      0.8              try:\n",
       "    12         5        227.0     45.4      3.8                  y, x = map(int, line.split(maxsplit=1))\n",
       "    13                                           \n",
       "    14         5         91.0     18.2      1.5                  if y < 0 or x < 0:\n",
       "    15                                                               raise ValueError\n",
       "    16                                           \n",
       "    17                                                       except ValueError:\n",
       "    18                                                           raise Exception(f\"Invalid cell on line {no + 2}.\")\n",
       "    19                                           \n",
       "    20         5         74.0     14.8      1.2              grid[y+1][x+1] = 1\n",
       "    21                                           \n",
       "    22         1         28.0     28.0      0.5      return grid"
      ]
     },
     "metadata": {},
     "output_type": "display_data"
    }
   ],
   "source": [
    "%lprun -f read_grid read_grid(filename)\n",
    "grid = read_grid(filename)"
   ]
  },
  {
   "cell_type": "code",
   "execution_count": 32,
   "id": "14d69b6f-7006-436b-a577-edb27137b52b",
   "metadata": {},
   "outputs": [
    {
     "data": {
      "text/plain": [
       "[[0, 0, 0, 0, 0, 0, 0],\n",
       " [0, 0, 0, 0, 0, 0, 0],\n",
       " [0, 0, 0, 1, 0, 0, 0],\n",
       " [0, 0, 0, 0, 1, 0, 0],\n",
       " [0, 0, 1, 1, 1, 0, 0],\n",
       " [0, 0, 0, 0, 0, 0, 0],\n",
       " [0, 0, 0, 0, 0, 0, 0]]"
      ]
     },
     "execution_count": 32,
     "metadata": {},
     "output_type": "execute_result"
    }
   ],
   "source": [
    "grid"
   ]
  },
  {
   "cell_type": "code",
   "execution_count": 33,
   "id": "85e1e476-006c-4fb3-8284-466d5e424718",
   "metadata": {
    "editable": true,
    "slideshow": {
     "slide_type": ""
    },
    "tags": []
   },
   "outputs": [
    {
     "data": {
      "text/plain": [
       "Timer unit: 1e-07 s\n",
       "\n",
       "Total time: 0.0002096 s\n",
       "File: C:\\Users\\jazib\\AppData\\Local\\Temp\\ipykernel_25772\\2116683384.py\n",
       "Function: tick at line 2\n",
       "\n",
       "Line #      Hits         Time  Per Hit   % Time  Line Contents\n",
       "==============================================================\n",
       "     2                                           def tick(grid):\n",
       "     3         1         36.0     36.0      1.7      h, w = len(grid)-2, len(grid[0])-2\n",
       "     4                                           \n",
       "     5         1          9.0      9.0      0.4      nextgrid = []\n",
       "     6         8        110.0     13.8      5.2      for y in range(h+2):\n",
       "     7         7        164.0     23.4      7.8          nextgrid.append([0]*(w+2))\n",
       "     8                                           \n",
       "     9         6         84.0     14.0      4.0      for y, row in enumerate(grid[1:-1]):\n",
       "    10        30        230.0      7.7     11.0          for x, cell in enumerate(row[1:-1]):\n",
       "    11        25        116.0      4.6      5.5              count =0\n",
       "    12        25        150.0      6.0      7.2              count += grid[y][x] \n",
       "    13        25        141.0      5.6      6.7              count += grid[y][x+1]\n",
       "    14        25        128.0      5.1      6.1              count += grid[y][x+2] \n",
       "    15        25        146.0      5.8      7.0              count += grid[y+1][x] \n",
       "    16        25        135.0      5.4      6.4              count += grid[y+1][x+2] \n",
       "    17        25        133.0      5.3      6.3              count += grid[y+2][x] \n",
       "    18        25        132.0      5.3      6.3              count += grid[y+2][x+1] \n",
       "    19        25        128.0      5.1      6.1              count += grid[y+2][x+2]\n",
       "    20        25        228.0      9.1     10.9              nextgrid[y+1][x+1] = 1 if count == 3 or (cell and count == 2) else 0\n",
       "    21                                           \n",
       "    22         1         26.0     26.0      1.2      return nextgrid"
      ]
     },
     "metadata": {},
     "output_type": "display_data"
    }
   ],
   "source": [
    "%lprun -f tick tick (grid)\n",
    "nextgrid = tick(grid)"
   ]
  },
  {
   "cell_type": "code",
   "execution_count": 34,
   "id": "263a3242-aee3-460c-bd7b-4b6a92e5d7e3",
   "metadata": {},
   "outputs": [
    {
     "data": {
      "text/plain": [
       "[[0, 0, 0, 0, 0, 0, 0],\n",
       " [0, 0, 0, 0, 0, 0, 0],\n",
       " [0, 0, 0, 0, 0, 0, 0],\n",
       " [0, 0, 1, 0, 1, 0, 0],\n",
       " [0, 0, 0, 1, 1, 0, 0],\n",
       " [0, 0, 0, 1, 0, 0, 0],\n",
       " [0, 0, 0, 0, 0, 0, 0]]"
      ]
     },
     "execution_count": 34,
     "metadata": {},
     "output_type": "execute_result"
    }
   ],
   "source": [
    "nextgrid"
   ]
  },
  {
   "cell_type": "code",
   "execution_count": 35,
   "id": "0ce8dd6b-0ee7-41c4-8235-503e3e3295f1",
   "metadata": {},
   "outputs": [
    {
     "data": {
      "text/plain": [
       "[[0, 0, 0, 0, 0, 0, 0],\n",
       " [0, 0, 0, 0, 0, 0, 0],\n",
       " [0, 0, 0, 0, 0, 0, 0],\n",
       " [0, 0, 0, 0, 1, 0, 0],\n",
       " [0, 0, 0, 0, 0, 1, 0],\n",
       " [0, 0, 0, 1, 1, 1, 0],\n",
       " [0, 0, 0, 0, 0, 0, 0]]"
      ]
     },
     "execution_count": 35,
     "metadata": {},
     "output_type": "execute_result"
    }
   ],
   "source": [
    "num_generations = 4\n",
    "\n",
    "nextgrid = grid.copy()\n",
    "for i in range(num_generations):\n",
    "    nextgrid = tick(nextgrid)\n",
    "\n",
    "nextgrid"
   ]
  },
  {
   "attachments": {
    "16c57f19-4a52-46f9-b83f-442f7e50114b.png": {
     "image/png": "[encoded data removed]"
    }
   },
   "cell_type": "markdown",
   "id": "20b455de-41bf-4bc3-b957-6416482e6466",
   "metadata": {},
   "source": [
    "**Memory Profiler Results for the same code**\n",
    "\n",
    "\n",
    "![image.png](attachment:16c57f19-4a52-46f9-b83f-442f7e50114b.png)"
   ]
  },
  {
   "cell_type": "code",
   "execution_count": null,
   "id": "524eba18-7f8f-49d0-bde7-61b2a37f1aa5",
   "metadata": {},
   "outputs": [],
   "source": []
  }
 ],
 "metadata": {
  "kernelspec": {
   "display_name": "Python 3 (ipykernel)",
   "language": "python",
   "name": "python3"
  },
  "language_info": {
   "codemirror_mode": {
    "name": "ipython",
    "version": 3
   },
   "file_extension": ".py",
   "mimetype": "text/x-python",
   "name": "python",
   "nbconvert_exporter": "python",
   "pygments_lexer": "ipython3",
   "version": "3.12.3"
  }
 },
 "nbformat": 4,
 "nbformat_minor": 5
}
