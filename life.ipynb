{
 "cells": [
  {
   "cell_type": "code",
   "execution_count": 19,
   "id": "c044e32c-ce52-46dc-ae82-d7292922e908",
   "metadata": {},
   "outputs": [],
   "source": [
    "%load_ext line_profiler"
   ]
  },
  {
   "cell_type": "code",
   "execution_count": 27,
   "id": "4094b00d-20b9-4573-ad5d-7693039af6a1",
   "metadata": {},
   "outputs": [
    {
     "name": "stdout",
     "output_type": "stream",
     "text": [
      "The snakeviz extension is already loaded. To reload it, use:\n",
      "  %reload_ext snakeviz\n"
     ]
    }
   ],
   "source": [
    "%load_ext snakeviz"
   ]
  },
  {
   "cell_type": "code",
   "execution_count": 24,
   "id": "d3ca2b97-5bb6-45f4-94a7-fc178641c1a1",
   "metadata": {
    "editable": true,
    "slideshow": {
     "slide_type": ""
    },
    "tags": []
   },
   "outputs": [],
   "source": [
    "@profile\n",
    "def read_grid(filename):\n",
    "    grid = []\n",
    "    with open(filename) as f:\n",
    "        w, h = map(int, f.readline().split(maxsplit=1))\n",
    "        \n",
    "        for y in range(h):\n",
    "            grid.append([0] * w)\n",
    "        \n",
    "        for no, line in enumerate(f):\n",
    "            try:\n",
    "                y, x = map(int, line.split(maxsplit=1))\n",
    "\n",
    "                if y < 0 or x < 0:\n",
    "                    raise ValueError\n",
    "\n",
    "            except ValueError:\n",
    "                raise Exception(f\"Invalid cell on line {no + 2}.\")\n",
    "\n",
    "            grid[y][x] = 1\n",
    "\n",
    "    return grid"
   ]
  },
  {
   "cell_type": "markdown",
   "id": "9b973f28-87ad-4fdf-9a14-e13152d20e16",
   "metadata": {},
   "source": [
    "Rules:\n",
    "- Any live cell with fewer than two live neighbours dies, as if by underpopulation.\n",
    "- Any live cell with two or three live neighbours lives on to the next generation.\n",
    "- Any live cell with more than three live neighbours dies, as if by overpopulation.\n",
    "- Any dead cell with exactly three live neighbours becomes a live cell, as if by reproduction."
   ]
  },
  {
   "cell_type": "code",
   "execution_count": 28,
   "id": "272032fd-a24e-4bd0-8f21-ebef622a8508",
   "metadata": {},
   "outputs": [],
   "source": [
    "@profile\n",
    "def tick(grid):\n",
    "    h, w = len(grid), len(grid[0])\n",
    "\n",
    "    nextgrid = []\n",
    "    for y in range(h):\n",
    "        nextgrid.append([0] * w)\n",
    "\n",
    "    for y, row in enumerate(grid):\n",
    "        for x, cell in enumerate(row):\n",
    "            count = 0\n",
    "            if y > 0:\n",
    "                count += grid[y-1][x-1] if x > 0 else 0\n",
    "                count += grid[y-1][x]\n",
    "                count += grid[y-1][x+1] if x < w - 1 else 0\n",
    "            count += grid[y][x-1] if x > 0 else 0\n",
    "            count += grid[y][x+1] if x < w - 1 else 0\n",
    "            if y < h - 1:\n",
    "                count += grid[y+1][x-1] if x > 0  else 0\n",
    "                count += grid[y+1][x] \n",
    "                count += grid[y+1][x+1] if x < w - 1 else 0\n",
    "\n",
    "            nextgrid[y][x] = 1 if count == 3 or (cell and count == 2) else 0\n",
    "\n",
    "    return nextgrid"
   ]
  },
  {
   "cell_type": "code",
   "execution_count": 29,
   "id": "0370f5b4-1bbf-40bf-9ea4-04a7c442d36e",
   "metadata": {
    "editable": true,
    "slideshow": {
     "slide_type": ""
    },
    "tags": []
   },
   "outputs": [],
   "source": [
    "filename = \"data/input_5x5.txt\""
   ]
  },
  {
   "cell_type": "code",
   "execution_count": 30,
   "id": "d5fd14b9-cbdd-4757-9579-f5f8308ad7ac",
   "metadata": {},
   "outputs": [
    {
     "data": {
      "text/plain": [
       "Timer unit: 1e-07 s\n",
       "\n",
       "Total time: 0.0013667 s\n",
       "File: C:\\Users\\jazib\\AppData\\Local\\Temp\\ipykernel_27588\\531961763.py\n",
       "Function: read_grid at line 2\n",
       "\n",
       "Line #      Hits         Time  Per Hit   % Time  Line Contents\n",
       "==============================================================\n",
       "     2                                           def read_grid(filename):\n",
       "     3         1         14.0     14.0      0.1      grid = []\n",
       "     4         2      11307.0   5653.5     82.7      with open(filename) as f:\n",
       "     5         1       1164.0   1164.0      8.5          w, h = map(int, f.readline().split(maxsplit=1))\n",
       "     6                                                   \n",
       "     7         6         90.0     15.0      0.7          for y in range(h):\n",
       "     8         5        112.0     22.4      0.8              grid.append([0] * w)\n",
       "     9                                                   \n",
       "    10         6        531.0     88.5      3.9          for no, line in enumerate(f):\n",
       "    11         5         54.0     10.8      0.4              try:\n",
       "    12         5        199.0     39.8      1.5                  y, x = map(int, line.split(maxsplit=1))\n",
       "    13                                           \n",
       "    14         5         99.0     19.8      0.7                  if y < 0 or x < 0:\n",
       "    15                                                               raise ValueError\n",
       "    16                                           \n",
       "    17                                                       except ValueError:\n",
       "    18                                                           raise Exception(f\"Invalid cell on line {no + 2}.\")\n",
       "    19                                           \n",
       "    20         5         68.0     13.6      0.5              grid[y][x] = 1\n",
       "    21                                           \n",
       "    22         1         29.0     29.0      0.2      return grid"
      ]
     },
     "metadata": {},
     "output_type": "display_data"
    }
   ],
   "source": [
    "%lprun -f read_grid read_grid(filename)\n",
    "grid = read_grid(filename)"
   ]
  },
  {
   "cell_type": "code",
   "execution_count": 31,
   "id": "14d69b6f-7006-436b-a577-edb27137b52b",
   "metadata": {},
   "outputs": [
    {
     "data": {
      "text/plain": [
       "[[0, 0, 0, 0, 0],\n",
       " [0, 0, 1, 0, 0],\n",
       " [0, 0, 0, 1, 0],\n",
       " [0, 1, 1, 1, 0],\n",
       " [0, 0, 0, 0, 0]]"
      ]
     },
     "execution_count": 31,
     "metadata": {},
     "output_type": "execute_result"
    }
   ],
   "source": [
    "grid"
   ]
  },
  {
   "cell_type": "code",
   "execution_count": 32,
   "id": "85e1e476-006c-4fb3-8284-466d5e424718",
   "metadata": {
    "editable": true,
    "slideshow": {
     "slide_type": ""
    },
    "tags": []
   },
   "outputs": [
    {
     "data": {
      "text/plain": [
       "Timer unit: 1e-07 s\n",
       "\n",
       "Total time: 0.0004489 s\n",
       "File: C:\\Users\\jazib\\AppData\\Local\\Temp\\ipykernel_27588\\3829533973.py\n",
       "Function: tick at line 1\n",
       "\n",
       "Line #      Hits         Time  Per Hit   % Time  Line Contents\n",
       "==============================================================\n",
       "     1                                           @profile\n",
       "     2                                           def tick(grid):\n",
       "     3         1         30.0     30.0      0.7      h, w = len(grid), len(grid[0])\n",
       "     4                                           \n",
       "     5         1         12.0     12.0      0.3      nextgrid = []\n",
       "     6         6         84.0     14.0      1.9      for y in range(h):\n",
       "     7         5        123.0     24.6      2.7          nextgrid.append([0] * w)\n",
       "     8                                           \n",
       "     9         6         99.0     16.5      2.2      for y, row in enumerate(grid):\n",
       "    10        30        453.0     15.1     10.1          for x, cell in enumerate(row):\n",
       "    11        25        231.0      9.2      5.1              count = 0\n",
       "    12        25        272.0     10.9      6.1              if y > 0:\n",
       "    13        20        290.0     14.5      6.5                  count += grid[y-1][x-1] if x > 0 else 0\n",
       "    14        20        217.0     10.8      4.8                  count += grid[y-1][x]\n",
       "    15        20        312.0     15.6      7.0                  count += grid[y-1][x+1] if x < w - 1 else 0\n",
       "    16        25        390.0     15.6      8.7              count += grid[y][x-1] if x > 0 else 0\n",
       "    17        25        381.0     15.2      8.5              count += grid[y][x+1] if x < w - 1 else 0\n",
       "    18        25        313.0     12.5      7.0              if y < h - 1:\n",
       "    19        20        295.0     14.8      6.6                  count += grid[y+1][x-1] if x > 0  else 0\n",
       "    20        20        233.0     11.7      5.2                  count += grid[y+1][x] \n",
       "    21        20        299.0     14.9      6.7                  count += grid[y+1][x+1] if x < w - 1 else 0\n",
       "    22                                           \n",
       "    23        25        419.0     16.8      9.3              nextgrid[y][x] = 1 if count == 3 or (cell and count == 2) else 0\n",
       "    24                                           \n",
       "    25         1         36.0     36.0      0.8      return nextgrid"
      ]
     },
     "metadata": {},
     "output_type": "display_data"
    }
   ],
   "source": [
    "%lprun -f tick tick (grid)\n",
    "nextgrid = tick(grid)"
   ]
  },
  {
   "cell_type": "code",
   "execution_count": 16,
   "id": "263a3242-aee3-460c-bd7b-4b6a92e5d7e3",
   "metadata": {},
   "outputs": [
    {
     "data": {
      "text/plain": [
       "[[0, 0, 0, 0, 0],\n",
       " [0, 0, 0, 0, 0],\n",
       " [0, 1, 0, 1, 0],\n",
       " [0, 0, 1, 1, 0],\n",
       " [0, 0, 1, 0, 0]]"
      ]
     },
     "execution_count": 16,
     "metadata": {},
     "output_type": "execute_result"
    }
   ],
   "source": [
    "nextgrid"
   ]
  },
  {
   "cell_type": "code",
   "execution_count": 17,
   "id": "0f7017bd-3851-4da3-83d3-3d40e6e5738a",
   "metadata": {},
   "outputs": [
    {
     "data": {
      "text/plain": [
       "[[0, 0, 0, 0, 0],\n",
       " [0, 0, 0, 0, 0],\n",
       " [0, 0, 0, 1, 0],\n",
       " [0, 0, 0, 0, 1],\n",
       " [0, 0, 1, 1, 1]]"
      ]
     },
     "execution_count": 17,
     "metadata": {},
     "output_type": "execute_result"
    }
   ],
   "source": [
    "num_generations = 4\n",
    "\n",
    "nextgrid = grid.copy()\n",
    "for i in range(num_generations):\n",
    "    nextgrid = tick(nextgrid)\n",
    "\n",
    "nextgrid"
   ]
  },
  {
   "cell_type": "code",
   "execution_count": null,
   "id": "fe71856f-ec8a-41bc-82af-f62077a79085",
   "metadata": {},
   "outputs": [],
   "source": []
  }
 ],
 "metadata": {
  "kernelspec": {
   "display_name": "Python 3 (ipykernel)",
   "language": "python",
   "name": "python3"
  },
  "language_info": {
   "codemirror_mode": {
    "name": "ipython",
    "version": 3
   },
   "file_extension": ".py",
   "mimetype": "text/x-python",
   "name": "python",
   "nbconvert_exporter": "python",
   "pygments_lexer": "ipython3",
   "version": "3.12.3"
  }
 },
 "nbformat": 4,
 "nbformat_minor": 5
}
