{
 "cells": [
  {
   "cell_type": "code",
   "execution_count": null,
   "id": "d3ca2b97-5bb6-45f4-94a7-fc178641c1a1",
   "metadata": {
    "editable": true,
    "slideshow": {
     "slide_type": ""
    },
    "tags": []
   },
   "outputs": [],
   "source": [
    "def read_grid(filename):\n",
    "    grid = []\n",
    "    with open(filename) as f:\n",
    "        w, h = map(int, f.readline().split(maxsplit=1))\n",
    "        \n",
    "        for y in range(h):\n",
    "            grid.append([0] * w)\n",
    "        \n",
    "        for no, line in enumerate(f):\n",
    "            try:\n",
    "                y, x = map(int, line.split(maxsplit=1))\n",
    "\n",
    "                if y < 0 or x < 0:\n",
    "                    raise ValueError\n",
    "\n",
    "            except ValueError:\n",
    "                raise Exception(f\"Invalid cell on line {no + 2}.\")\n",
    "\n",
    "            grid[y][x] = 1\n",
    "\n",
    "    return grid"
   ]
  },
  {
   "cell_type": "markdown",
   "id": "9b973f28-87ad-4fdf-9a14-e13152d20e16",
   "metadata": {},
   "source": [
    "Rules:\n",
    "- Any live cell with fewer than two live neighbours dies, as if by underpopulation.\n",
    "- Any live cell with two or three live neighbours lives on to the next generation.\n",
    "- Any live cell with more than three live neighbours dies, as if by overpopulation.\n",
    "- Any dead cell with exactly three live neighbours becomes a live cell, as if by reproduction."
   ]
  },
  {
   "cell_type": "code",
   "execution_count": null,
   "id": "272032fd-a24e-4bd0-8f21-ebef622a8508",
   "metadata": {},
   "outputs": [],
   "source": [
    "def tick(grid):\n",
    "    h, w = len(grid), len(grid[0])\n",
    "\n",
    "    nextgrid = []\n",
    "    for y in range(h):\n",
    "        nextgrid.append([0] * w)\n",
    "\n",
    "    for y, row in enumerate(grid):\n",
    "        for x, cell in enumerate(row):\n",
    "            count = 0\n",
    "            if y > 0:\n",
    "                count += grid[y-1][x-1] if x > 0 else 0\n",
    "                count += grid[y-1][x]\n",
    "                count += grid[y-1][x+1] if x < w - 1 else 0\n",
    "            count += grid[y][x-1] if x > 0 else 0\n",
    "            count += grid[y][x+1] if x < w - 1 else 0\n",
    "            if y < h - 1:\n",
    "                count += grid[y+1][x-1] if x > 0  else 0\n",
    "                count += grid[y+1][x] \n",
    "                count += grid[y+1][x+1] if x < w - 1 else 0\n",
    "\n",
    "            nextgrid[y][x] = 1 if count == 3 or (cell and count == 2) else 0\n",
    "\n",
    "    return nextgrid"
   ]
  },
  {
   "cell_type": "code",
   "execution_count": null,
   "id": "0370f5b4-1bbf-40bf-9ea4-04a7c442d36e",
   "metadata": {
    "editable": true,
    "slideshow": {
     "slide_type": ""
    },
    "tags": []
   },
   "outputs": [],
   "source": [
    "filename = \"data/input_5x5.txt\""
   ]
  },
  {
   "cell_type": "code",
   "execution_count": null,
   "id": "d5fd14b9-cbdd-4757-9579-f5f8308ad7ac",
   "metadata": {},
   "outputs": [],
   "source": [
    "%%time\n",
    "grid = read_grid(filename)"
   ]
  },
  {
   "cell_type": "code",
   "execution_count": null,
   "id": "14d69b6f-7006-436b-a577-edb27137b52b",
   "metadata": {},
   "outputs": [],
   "source": [
    "grid"
   ]
  },
  {
   "cell_type": "code",
   "execution_count": null,
   "id": "85e1e476-006c-4fb3-8284-466d5e424718",
   "metadata": {
    "editable": true,
    "slideshow": {
     "slide_type": ""
    },
    "tags": []
   },
   "outputs": [],
   "source": [
    "%%time\n",
    "nextgrid = tick(grid)"
   ]
  },
  {
   "cell_type": "code",
   "execution_count": null,
   "id": "263a3242-aee3-460c-bd7b-4b6a92e5d7e3",
   "metadata": {},
   "outputs": [],
   "source": [
    "nextgrid"
   ]
  },
  {
   "cell_type": "code",
   "execution_count": null,
   "id": "0f7017bd-3851-4da3-83d3-3d40e6e5738a",
   "metadata": {},
   "outputs": [],
   "source": [
    "num_generations = 4\n",
    "\n",
    "nextgrid = grid.copy()\n",
    "for i in range(num_generations):\n",
    "    nextgrid = tick(nextgrid)\n",
    "\n",
    "nextgrid"
   ]
  },
  {
   "cell_type": "code",
   "execution_count": null,
   "id": "cb6cad54-1c5a-482e-8ff5-bc3879b947a4",
   "metadata": {},
   "outputs": [],
   "source": []
  }
 ],
 "metadata": {
  "kernelspec": {
   "display_name": "Python 3 (ipykernel)",
   "language": "python",
   "name": "python3"
  },
  "language_info": {
   "codemirror_mode": {
    "name": "ipython",
    "version": 3
   },
   "file_extension": ".py",
   "mimetype": "text/x-python",
   "name": "python",
   "nbconvert_exporter": "python",
   "pygments_lexer": "ipython3",
   "version": "3.12.3"
  }
 },
 "nbformat": 4,
 "nbformat_minor": 5
}
